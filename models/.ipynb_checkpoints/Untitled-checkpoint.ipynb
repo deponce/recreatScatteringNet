{
 "cells": [
  {
   "cell_type": "code",
   "execution_count": 1,
   "id": "1e6f9791",
   "metadata": {},
   "outputs": [],
   "source": [
    "from torchsummary import summary\n",
    "from scatter_resnet import *\n",
    "import os\n",
    "os.environ[\"CUDA_VISIBLE_DEVICES\"]= ''"
   ]
  },
  {
   "cell_type": "code",
   "execution_count": 2,
   "id": "7bc66e4c",
   "metadata": {},
   "outputs": [
    {
     "name": "stdout",
     "output_type": "stream",
     "text": [
      "nfscat 217.0\n",
      "nspace 28.0\n",
      "----------------------------------------------------------------\n",
      "        Layer (type)               Output Shape         Param #\n",
      "================================================================\n",
      " ScatteringTorch2D-1       [-1, 3, 217, 28, 28]               0\n",
      "            Conv2d-2          [-1, 256, 28, 28]       1,500,160\n",
      "              ReLU-3          [-1, 256, 28, 28]               0\n",
      "            Conv2d-4          [-1, 256, 28, 28]          65,792\n",
      "              ReLU-5          [-1, 256, 28, 28]               0\n",
      "            Conv2d-6          [-1, 256, 28, 28]         590,080\n",
      "              ReLU-7          [-1, 256, 28, 28]               0\n",
      "            Conv2d-8          [-1, 256, 28, 28]         590,080\n",
      "              ReLU-9          [-1, 256, 28, 28]               0\n",
      "           Conv2d-10          [-1, 256, 28, 28]          65,792\n",
      "             ReLU-11          [-1, 256, 28, 28]               0\n",
      "       BasicBlock-12          [-1, 256, 28, 28]               0\n",
      "           Conv2d-13          [-1, 256, 28, 28]          65,792\n",
      "             ReLU-14          [-1, 256, 28, 28]               0\n",
      "           Conv2d-15          [-1, 256, 28, 28]         590,080\n",
      "             ReLU-16          [-1, 256, 28, 28]               0\n",
      "           Conv2d-17          [-1, 256, 28, 28]         590,080\n",
      "             ReLU-18          [-1, 256, 28, 28]               0\n",
      "           Conv2d-19          [-1, 256, 28, 28]          65,792\n",
      "             ReLU-20          [-1, 256, 28, 28]               0\n",
      "       BasicBlock-21          [-1, 256, 28, 28]               0\n",
      "           Conv2d-22          [-1, 512, 28, 28]         131,584\n",
      "             ReLU-23          [-1, 512, 28, 28]               0\n",
      "           Conv2d-24          [-1, 512, 14, 14]       2,359,808\n",
      "             ReLU-25          [-1, 512, 14, 14]               0\n",
      "           Conv2d-26          [-1, 512, 14, 14]       2,359,808\n",
      "             ReLU-27          [-1, 512, 14, 14]               0\n",
      "           Conv2d-28          [-1, 512, 14, 14]         262,656\n",
      "           Conv2d-29          [-1, 512, 14, 14]         131,584\n",
      "             ReLU-30          [-1, 512, 14, 14]               0\n",
      "       BasicBlock-31          [-1, 512, 14, 14]               0\n",
      "           Conv2d-32          [-1, 512, 14, 14]         262,656\n",
      "             ReLU-33          [-1, 512, 14, 14]               0\n",
      "           Conv2d-34          [-1, 512, 14, 14]       2,359,808\n",
      "             ReLU-35          [-1, 512, 14, 14]               0\n",
      "           Conv2d-36          [-1, 512, 14, 14]       2,359,808\n",
      "             ReLU-37          [-1, 512, 14, 14]               0\n",
      "           Conv2d-38          [-1, 512, 14, 14]         262,656\n",
      "             ReLU-39          [-1, 512, 14, 14]               0\n",
      "       BasicBlock-40          [-1, 512, 14, 14]               0\n",
      "        AvgPool2d-41            [-1, 512, 1, 1]               0\n",
      "           Linear-42                 [-1, 1000]         513,000\n",
      "================================================================\n",
      "Total params: 15,127,016\n",
      "Trainable params: 15,127,016\n",
      "Non-trainable params: 0\n",
      "----------------------------------------------------------------\n",
      "Input size (MB): 0.57\n",
      "Forward/backward pass size (MB): 53.67\n",
      "Params size (MB): 57.70\n",
      "Estimated Total Size (MB): 111.95\n",
      "----------------------------------------------------------------\n"
     ]
    }
   ],
   "source": [
    "model = scatternet_cnn()\n",
    "summary(model,(3,224,224))"
   ]
  },
  {
   "cell_type": "code",
   "execution_count": 3,
   "id": "e15ba39f",
   "metadata": {},
   "outputs": [],
   "source": [
    "image = torch.ones((16,3,224,224))"
   ]
  },
  {
   "cell_type": "code",
   "execution_count": 4,
   "id": "807db802",
   "metadata": {},
   "outputs": [
    {
     "data": {
      "text/plain": [
       "tensor([[0.4845, 0.5222, 0.4654,  ..., 0.5598, 0.5189, 0.5379],\n",
       "        [0.4845, 0.5222, 0.4654,  ..., 0.5598, 0.5189, 0.5379],\n",
       "        [0.4845, 0.5222, 0.4654,  ..., 0.5598, 0.5189, 0.5379],\n",
       "        ...,\n",
       "        [0.4845, 0.5222, 0.4654,  ..., 0.5598, 0.5189, 0.5379],\n",
       "        [0.4845, 0.5222, 0.4654,  ..., 0.5598, 0.5189, 0.5379],\n",
       "        [0.4845, 0.5222, 0.4654,  ..., 0.5598, 0.5189, 0.5379]],\n",
       "       grad_fn=<SigmoidBackward>)"
      ]
     },
     "execution_count": 4,
     "metadata": {},
     "output_type": "execute_result"
    }
   ],
   "source": [
    "model(image)"
   ]
  },
  {
   "cell_type": "code",
   "execution_count": 6,
   "id": "71d11271",
   "metadata": {
    "scrolled": false
   },
   "outputs": [
    {
     "data": {
      "text/plain": [
       "scatternet_cnn(\n",
       "  (scattering): Scattering2D()\n",
       "  (conv1): Conv2d(651, 256, kernel_size=(3, 3), stride=(1, 1), padding=(1, 1))\n",
       "  (relu): ReLU(inplace=True)\n",
       "  (layer1): Sequential(\n",
       "    (0): BasicBlock(\n",
       "      (conv0): Conv2d(256, 256, kernel_size=(1, 1), stride=(1, 1))\n",
       "      (conv1): Conv2d(256, 256, kernel_size=(3, 3), stride=(1, 1), padding=(1, 1))\n",
       "      (relu): ReLU(inplace=True)\n",
       "      (conv2): Conv2d(256, 256, kernel_size=(3, 3), stride=(1, 1), padding=(1, 1))\n",
       "      (conv3): Conv2d(256, 256, kernel_size=(1, 1), stride=(1, 1))\n",
       "    )\n",
       "    (1): BasicBlock(\n",
       "      (conv0): Conv2d(256, 256, kernel_size=(1, 1), stride=(1, 1))\n",
       "      (conv1): Conv2d(256, 256, kernel_size=(3, 3), stride=(1, 1), padding=(1, 1))\n",
       "      (relu): ReLU(inplace=True)\n",
       "      (conv2): Conv2d(256, 256, kernel_size=(3, 3), stride=(1, 1), padding=(1, 1))\n",
       "      (conv3): Conv2d(256, 256, kernel_size=(1, 1), stride=(1, 1))\n",
       "    )\n",
       "  )\n",
       "  (layer2): Sequential(\n",
       "    (0): BasicBlock(\n",
       "      (conv0): Conv2d(256, 512, kernel_size=(1, 1), stride=(1, 1))\n",
       "      (conv1): Conv2d(512, 512, kernel_size=(3, 3), stride=(2, 2), padding=(1, 1))\n",
       "      (relu): ReLU(inplace=True)\n",
       "      (conv2): Conv2d(512, 512, kernel_size=(3, 3), stride=(1, 1), padding=(1, 1))\n",
       "      (conv3): Conv2d(512, 512, kernel_size=(1, 1), stride=(1, 1))\n",
       "      (downsample): Sequential(\n",
       "        (0): Conv2d(256, 512, kernel_size=(1, 1), stride=(2, 2))\n",
       "      )\n",
       "    )\n",
       "    (1): BasicBlock(\n",
       "      (conv0): Conv2d(512, 512, kernel_size=(1, 1), stride=(1, 1))\n",
       "      (conv1): Conv2d(512, 512, kernel_size=(3, 3), stride=(1, 1), padding=(1, 1))\n",
       "      (relu): ReLU(inplace=True)\n",
       "      (conv2): Conv2d(512, 512, kernel_size=(3, 3), stride=(1, 1), padding=(1, 1))\n",
       "      (conv3): Conv2d(512, 512, kernel_size=(1, 1), stride=(1, 1))\n",
       "    )\n",
       "  )\n",
       "  (avgpool): AvgPool2d(kernel_size=14, stride=14, padding=0)\n",
       "  (fc): Linear(in_features=512, out_features=1000, bias=True)\n",
       ")"
      ]
     },
     "execution_count": 6,
     "metadata": {},
     "output_type": "execute_result"
    }
   ],
   "source": [
    "model"
   ]
  },
  {
   "cell_type": "code",
   "execution_count": 26,
   "id": "0cc79450",
   "metadata": {
    "scrolled": true
   },
   "outputs": [
    {
     "name": "stdout",
     "output_type": "stream",
     "text": [
      "conv1:  None\n",
      "layer1\n",
      "conv0: None\n",
      "conv1: None\n",
      "conv2: None\n",
      "conv3: None\n",
      "layer1\n",
      "conv0: None\n",
      "conv1: None\n",
      "conv2: None\n",
      "conv3: None\n",
      "layer2\n",
      "conv0: None\n",
      "conv1: None\n",
      "conv2: None\n",
      "conv3: None\n",
      "layer2\n",
      "conv0: None\n",
      "conv1: None\n",
      "conv2: None\n",
      "conv3: None\n",
      "fc layer:  None\n"
     ]
    }
   ],
   "source": [
    "print('conv1: ',model.conv1.weight.grad)\n",
    "\n",
    "for layer in (model.layer1):\n",
    "    print('###########################################\\n layer1:')\n",
    "    layer.output_grad()\n",
    "for layer in (model.layer2):\n",
    "    print('###########################################\\n layer2: ')\n",
    "    layer.output_grad()\n",
    "print(\"fc layer: \",model.fc.weight.grad)"
   ]
  },
  {
   "cell_type": "code",
   "execution_count": null,
   "id": "8e9a08ee",
   "metadata": {},
   "outputs": [],
   "source": []
  }
 ],
 "metadata": {
  "kernelspec": {
   "display_name": "Python 3",
   "language": "python",
   "name": "python3"
  },
  "language_info": {
   "codemirror_mode": {
    "name": "ipython",
    "version": 3
   },
   "file_extension": ".py",
   "mimetype": "text/x-python",
   "name": "python",
   "nbconvert_exporter": "python",
   "pygments_lexer": "ipython3",
   "version": "3.8.8"
  }
 },
 "nbformat": 4,
 "nbformat_minor": 5
}

{
 "cells": [
  {
   "cell_type": "code",
   "execution_count": 1,
   "id": "1e6f9791",
   "metadata": {},
   "outputs": [],
   "source": [
    "from torchsummary import summary\n",
    "from scatter_resnet import *\n",
    "import os\n",
    "os.environ[\"CUDA_VISIBLE_DEVICES\"]= ''"
   ]
  },
  {
   "cell_type": "code",
   "execution_count": 2,
   "id": "7bc66e4c",
   "metadata": {},
   "outputs": [
    {
     "name": "stdout",
     "output_type": "stream",
     "text": [
      "nfscat 217.0\n",
      "nspace 28.0\n",
      "----------------------------------------------------------------\n",
      "        Layer (type)               Output Shape         Param #\n",
      "================================================================\n",
      " ScatteringTorch2D-1       [-1, 3, 217, 28, 28]               0\n",
      "            Conv2d-2          [-1, 256, 28, 28]       1,500,160\n",
      "              ReLU-3          [-1, 256, 28, 28]               0\n",
      "            Conv2d-4          [-1, 256, 28, 28]          65,792\n",
      "              ReLU-5          [-1, 256, 28, 28]               0\n",
      "            Conv2d-6          [-1, 256, 28, 28]         590,080\n",
      "              ReLU-7          [-1, 256, 28, 28]               0\n",
      "            Conv2d-8          [-1, 256, 28, 28]         590,080\n",
      "              ReLU-9          [-1, 256, 28, 28]               0\n",
      "           Conv2d-10          [-1, 256, 28, 28]          65,792\n",
      "             ReLU-11          [-1, 256, 28, 28]               0\n",
      "       BasicBlock-12          [-1, 256, 28, 28]               0\n",
      "           Conv2d-13          [-1, 256, 28, 28]          65,792\n",
      "             ReLU-14          [-1, 256, 28, 28]               0\n",
      "           Conv2d-15          [-1, 256, 28, 28]         590,080\n",
      "             ReLU-16          [-1, 256, 28, 28]               0\n",
      "           Conv2d-17          [-1, 256, 28, 28]         590,080\n",
      "             ReLU-18          [-1, 256, 28, 28]               0\n",
      "           Conv2d-19          [-1, 256, 28, 28]          65,792\n",
      "             ReLU-20          [-1, 256, 28, 28]               0\n",
      "       BasicBlock-21          [-1, 256, 28, 28]               0\n",
      "           Conv2d-22          [-1, 320, 28, 28]          82,240\n",
      "             ReLU-23          [-1, 320, 28, 28]               0\n",
      "           Conv2d-24          [-1, 384, 14, 14]       1,106,304\n",
      "             ReLU-25          [-1, 384, 14, 14]               0\n",
      "           Conv2d-26          [-1, 448, 14, 14]       1,548,736\n",
      "             ReLU-27          [-1, 448, 14, 14]               0\n",
      "           Conv2d-28          [-1, 512, 14, 14]         229,888\n",
      "           Conv2d-29          [-1, 512, 14, 14]         131,584\n",
      "             ReLU-30          [-1, 512, 14, 14]               0\n",
      "       BasicBlock-31          [-1, 512, 14, 14]               0\n",
      "           Conv2d-32          [-1, 512, 14, 14]         262,656\n",
      "             ReLU-33          [-1, 512, 14, 14]               0\n",
      "           Conv2d-34          [-1, 512, 14, 14]       2,359,808\n",
      "             ReLU-35          [-1, 512, 14, 14]               0\n",
      "           Conv2d-36          [-1, 512, 14, 14]       2,359,808\n",
      "             ReLU-37          [-1, 512, 14, 14]               0\n",
      "           Conv2d-38          [-1, 512, 14, 14]         262,656\n",
      "             ReLU-39          [-1, 512, 14, 14]               0\n",
      "       BasicBlock-40          [-1, 512, 14, 14]               0\n",
      "        AvgPool2d-41            [-1, 512, 1, 1]               0\n",
      "           Linear-42                 [-1, 1000]         513,000\n",
      "================================================================\n",
      "Total params: 12,980,328\n",
      "Trainable params: 12,980,328\n",
      "Non-trainable params: 0\n",
      "----------------------------------------------------------------\n",
      "Input size (MB): 0.57\n",
      "Forward/backward pass size (MB): 50.80\n",
      "Params size (MB): 49.52\n",
      "Estimated Total Size (MB): 100.89\n",
      "----------------------------------------------------------------\n"
     ]
    }
   ],
   "source": [
    "model = scatternet_cnn()\n",
    "summary(model,(3,224,224))"
   ]
  },
  {
   "cell_type": "code",
   "execution_count": 3,
   "id": "90f025b5",
   "metadata": {},
   "outputs": [
    {
     "name": "stdout",
     "output_type": "stream",
     "text": [
      "nfscat 217.0\n",
      "nspace 28.0\n",
      "----------------------------------------------------------------\n",
      "        Layer (type)               Output Shape         Param #\n",
      "================================================================\n",
      " ScatteringTorch2D-1       [-1, 3, 217, 28, 28]               0\n",
      "            Conv2d-2          [-1, 256, 28, 28]       1,500,160\n",
      "              ReLU-3          [-1, 256, 28, 28]               0\n",
      "            Conv2d-4          [-1, 256, 28, 28]          65,792\n",
      "              ReLU-5          [-1, 256, 28, 28]               0\n",
      "            Conv2d-6          [-1, 256, 28, 28]         590,080\n",
      "              ReLU-7          [-1, 256, 28, 28]               0\n",
      "            Conv2d-8          [-1, 256, 28, 28]         590,080\n",
      "              ReLU-9          [-1, 256, 28, 28]               0\n",
      "           Conv2d-10          [-1, 256, 28, 28]          65,792\n",
      "             ReLU-11          [-1, 256, 28, 28]               0\n",
      "       BasicBlock-12          [-1, 256, 28, 28]               0\n",
      "           Conv2d-13          [-1, 256, 28, 28]          65,792\n",
      "             ReLU-14          [-1, 256, 28, 28]               0\n",
      "           Conv2d-15          [-1, 256, 28, 28]         590,080\n",
      "             ReLU-16          [-1, 256, 28, 28]               0\n",
      "           Conv2d-17          [-1, 256, 28, 28]         590,080\n",
      "             ReLU-18          [-1, 256, 28, 28]               0\n",
      "           Conv2d-19          [-1, 256, 28, 28]          65,792\n",
      "             ReLU-20          [-1, 256, 28, 28]               0\n",
      "       BasicBlock-21          [-1, 256, 28, 28]               0\n",
      "           Conv2d-22          [-1, 320, 28, 28]          82,240\n",
      "             ReLU-23          [-1, 320, 28, 28]               0\n",
      "           Conv2d-24          [-1, 384, 14, 14]       1,106,304\n",
      "             ReLU-25          [-1, 384, 14, 14]               0\n",
      "           Conv2d-26          [-1, 448, 14, 14]       1,548,736\n",
      "             ReLU-27          [-1, 448, 14, 14]               0\n",
      "           Conv2d-28          [-1, 512, 14, 14]         229,888\n",
      "           Conv2d-29          [-1, 512, 14, 14]         131,584\n",
      "             ReLU-30          [-1, 512, 14, 14]               0\n",
      "       BasicBlock-31          [-1, 512, 14, 14]               0\n",
      "           Conv2d-32          [-1, 512, 14, 14]         262,656\n",
      "             ReLU-33          [-1, 512, 14, 14]               0\n",
      "           Conv2d-34          [-1, 512, 14, 14]       2,359,808\n",
      "             ReLU-35          [-1, 512, 14, 14]               0\n",
      "           Conv2d-36          [-1, 512, 14, 14]       2,359,808\n",
      "             ReLU-37          [-1, 512, 14, 14]               0\n",
      "           Conv2d-38          [-1, 512, 14, 14]         262,656\n",
      "             ReLU-39          [-1, 512, 14, 14]               0\n",
      "       BasicBlock-40          [-1, 512, 14, 14]               0\n",
      "        AvgPool2d-41            [-1, 512, 1, 1]               0\n",
      "           Linear-42                 [-1, 1000]         513,000\n",
      "================================================================\n",
      "Total params: 12,980,328\n",
      "Trainable params: 12,980,328\n",
      "Non-trainable params: 0\n",
      "----------------------------------------------------------------\n",
      "Input size (MB): 0.57\n",
      "Forward/backward pass size (MB): 50.80\n",
      "Params size (MB): 49.52\n",
      "Estimated Total Size (MB): 100.89\n",
      "----------------------------------------------------------------\n"
     ]
    }
   ],
   "source": [
    "model = scatternet_cnn()\n",
    "summary(model,(3,224,224))"
   ]
  },
  {
   "cell_type": "code",
   "execution_count": 4,
   "id": "76adc20a",
   "metadata": {},
   "outputs": [],
   "source": [
    "image = torch.ones((16,3,224,224))"
   ]
  },
  {
   "cell_type": "code",
   "execution_count": 5,
   "id": "807db802",
   "metadata": {},
   "outputs": [
    {
     "data": {
      "text/plain": [
       "tensor([[0.5221, 0.4931, 0.4434,  ..., 0.4297, 0.5337, 0.6194],\n",
       "        [0.5221, 0.4931, 0.4434,  ..., 0.4297, 0.5337, 0.6194],\n",
       "        [0.5221, 0.4931, 0.4434,  ..., 0.4297, 0.5337, 0.6194],\n",
       "        ...,\n",
       "        [0.5221, 0.4931, 0.4434,  ..., 0.4297, 0.5337, 0.6194],\n",
       "        [0.5221, 0.4931, 0.4434,  ..., 0.4297, 0.5337, 0.6194],\n",
       "        [0.5221, 0.4931, 0.4434,  ..., 0.4297, 0.5337, 0.6194]],\n",
       "       grad_fn=<SigmoidBackward>)"
      ]
     },
     "execution_count": 5,
     "metadata": {},
     "output_type": "execute_result"
    }
   ],
   "source": [
    "model(image)"
   ]
  },
  {
   "cell_type": "code",
   "execution_count": 6,
   "id": "f0720853",
   "metadata": {
    "scrolled": false
   },
   "outputs": [
    {
     "data": {
      "text/plain": [
       "scatternet_cnn(\n",
       "  (scattering): Scattering2D()\n",
       "  (conv1): Conv2d(651, 256, kernel_size=(3, 3), stride=(1, 1), padding=(1, 1))\n",
       "  (relu): ReLU(inplace=True)\n",
       "  (layer1): Sequential(\n",
       "    (0): BasicBlock(\n",
       "      (relu): ReLU(inplace=True)\n",
       "      (conv0): Conv2d(256, 256, kernel_size=(1, 1), stride=(1, 1))\n",
       "      (conv1): Conv2d(256, 256, kernel_size=(3, 3), stride=(1, 1), padding=(1, 1))\n",
       "      (conv2): Conv2d(256, 256, kernel_size=(3, 3), stride=(1, 1), padding=(1, 1))\n",
       "      (conv3): Conv2d(256, 256, kernel_size=(1, 1), stride=(1, 1))\n",
       "    )\n",
       "    (1): BasicBlock(\n",
       "      (relu): ReLU(inplace=True)\n",
       "      (conv0): Conv2d(256, 256, kernel_size=(1, 1), stride=(1, 1))\n",
       "      (conv1): Conv2d(256, 256, kernel_size=(3, 3), stride=(1, 1), padding=(1, 1))\n",
       "      (conv2): Conv2d(256, 256, kernel_size=(3, 3), stride=(1, 1), padding=(1, 1))\n",
       "      (conv3): Conv2d(256, 256, kernel_size=(1, 1), stride=(1, 1))\n",
       "    )\n",
       "  )\n",
       "  (layer2): Sequential(\n",
       "    (0): BasicBlock(\n",
       "      (relu): ReLU(inplace=True)\n",
       "      (conv0): Conv2d(256, 320, kernel_size=(1, 1), stride=(1, 1))\n",
       "      (conv1): Conv2d(320, 384, kernel_size=(3, 3), stride=(2, 2), padding=(1, 1))\n",
       "      (conv2): Conv2d(384, 448, kernel_size=(3, 3), stride=(1, 1), padding=(1, 1))\n",
       "      (conv3): Conv2d(448, 512, kernel_size=(1, 1), stride=(1, 1))\n",
       "      (downsample): Sequential(\n",
       "        (0): Conv2d(256, 512, kernel_size=(1, 1), stride=(2, 2))\n",
       "      )\n",
       "    )\n",
       "    (1): BasicBlock(\n",
       "      (relu): ReLU(inplace=True)\n",
       "      (conv0): Conv2d(512, 512, kernel_size=(1, 1), stride=(1, 1))\n",
       "      (conv1): Conv2d(512, 512, kernel_size=(3, 3), stride=(1, 1), padding=(1, 1))\n",
       "      (conv2): Conv2d(512, 512, kernel_size=(3, 3), stride=(1, 1), padding=(1, 1))\n",
       "      (conv3): Conv2d(512, 512, kernel_size=(1, 1), stride=(1, 1))\n",
       "    )\n",
       "  )\n",
       "  (avgpool): AvgPool2d(kernel_size=14, stride=14, padding=0)\n",
       "  (fc): Linear(in_features=512, out_features=1000, bias=True)\n",
       ")"
      ]
     },
     "execution_count": 6,
     "metadata": {},
     "output_type": "execute_result"
    }
   ],
   "source": [
    "model"
   ]
  },
  {
   "cell_type": "code",
   "execution_count": 7,
   "id": "04556126",
   "metadata": {
    "scrolled": true
   },
   "outputs": [
    {
     "name": "stdout",
     "output_type": "stream",
     "text": [
      "conv1:  None\n",
      "###########################################\n",
      " layer1:\n",
      "conv0: None\n",
      "conv1: None\n",
      "conv2: None\n",
      "conv3: None\n",
      "###########################################\n",
      " layer1:\n",
      "conv0: None\n",
      "conv1: None\n",
      "conv2: None\n",
      "conv3: None\n",
      "###########################################\n",
      " layer2: \n",
      "conv0: None\n",
      "conv1: None\n",
      "conv2: None\n",
      "conv3: None\n",
      "###########################################\n",
      " layer2: \n",
      "conv0: None\n",
      "conv1: None\n",
      "conv2: None\n",
      "conv3: None\n",
      "fc layer:  None\n"
     ]
    }
   ],
   "source": [
    "print('conv1: ',model.conv1.weight.grad)\n",
    "for layer in (model.layer1):\n",
    "    print('###########################################\\n layer1:')\n",
    "    layer.output_grad()\n",
    "for layer in (model.layer2):\n",
    "    print('###########################################\\n layer2: ')\n",
    "    layer.output_grad()\n",
    "print(\"fc layer: \",model.fc.weight.grad)"
   ]
  },
  {
   "cell_type": "code",
   "execution_count": 8,
   "id": "cab4aaa9",
   "metadata": {},
   "outputs": [],
   "source": [
    "import torch"
   ]
  },
  {
   "cell_type": "code",
   "execution_count": 9,
   "id": "3388eaba",
   "metadata": {},
   "outputs": [],
   "source": [
    "o = torch.rand(3,1000)"
   ]
  },
  {
   "cell_type": "code",
   "execution_count": 10,
   "id": "34bf6f6a",
   "metadata": {},
   "outputs": [
    {
     "data": {
      "text/plain": [
       "torch.Size([3, 1000])"
      ]
     },
     "execution_count": 10,
     "metadata": {},
     "output_type": "execute_result"
    }
   ],
   "source": [
    "o.shape"
   ]
  },
  {
   "cell_type": "code",
   "execution_count": 11,
   "id": "31bb33fe",
   "metadata": {},
   "outputs": [
    {
     "data": {
      "text/plain": [
       "tensor([[553, 489, 195, 972, 267],\n",
       "        [865, 242, 463, 465, 813],\n",
       "        [959, 203,  98, 724, 354]])"
      ]
     },
     "execution_count": 11,
     "metadata": {},
     "output_type": "execute_result"
    }
   ],
   "source": [
    "torch.topk(o, dim=1, k=5).indices"
   ]
  },
  {
   "cell_type": "code",
   "execution_count": 12,
   "id": "dbf39592",
   "metadata": {},
   "outputs": [],
   "source": [
    "tar = torch.tensor([267, 463, 959])"
   ]
  },
  {
   "cell_type": "code",
   "execution_count": 17,
   "id": "031155e0",
   "metadata": {},
   "outputs": [],
   "source": [
    "top5 = torch.topk(o, dim=1, k=5).indices"
   ]
  },
  {
   "cell_type": "code",
   "execution_count": 21,
   "id": "35a5bdcd",
   "metadata": {},
   "outputs": [
    {
     "data": {
      "text/plain": [
       "tensor([[553, 489, 195, 972, 267],\n",
       "        [865, 242, 463, 465, 813],\n",
       "        [959, 203,  98, 724, 354]])"
      ]
     },
     "execution_count": 21,
     "metadata": {},
     "output_type": "execute_result"
    }
   ],
   "source": [
    "top5"
   ]
  },
  {
   "cell_type": "code",
   "execution_count": 18,
   "id": "e5cd1f5c",
   "metadata": {},
   "outputs": [
    {
     "data": {
      "text/plain": [
       "tensor(3)"
      ]
     },
     "execution_count": 18,
     "metadata": {},
     "output_type": "execute_result"
    }
   ],
   "source": [
    "torch.sum((top5-tar[:, None]) == 0)"
   ]
  },
  {
   "cell_type": "code",
   "execution_count": 26,
   "id": "d9251a25",
   "metadata": {},
   "outputs": [
    {
     "data": {
      "text/plain": [
       "tensor(1)"
      ]
     },
     "execution_count": 26,
     "metadata": {},
     "output_type": "execute_result"
    }
   ],
   "source": [
    "torch.sum((top5[:, 0]-tar)== 0)"
   ]
  },
  {
   "cell_type": "code",
   "execution_count": 28,
   "id": "a7ef9d7d",
   "metadata": {},
   "outputs": [
    {
     "data": {
      "text/plain": [
       "24.0"
      ]
     },
     "execution_count": 28,
     "metadata": {},
     "output_type": "execute_result"
    }
   ],
   "source": [
    "8/20*60"
   ]
  },
  {
   "cell_type": "code",
   "execution_count": null,
   "id": "c21fd210",
   "metadata": {},
   "outputs": [],
   "source": []
  }
 ],
 "metadata": {
  "kernelspec": {
   "display_name": "Python 3",
   "language": "python",
   "name": "python3"
  },
  "language_info": {
   "codemirror_mode": {
    "name": "ipython",
    "version": 3
   },
   "file_extension": ".py",
   "mimetype": "text/x-python",
   "name": "python",
   "nbconvert_exporter": "python",
   "pygments_lexer": "ipython3",
   "version": "3.8.8"
  }
 },
 "nbformat": 4,
 "nbformat_minor": 5
}
